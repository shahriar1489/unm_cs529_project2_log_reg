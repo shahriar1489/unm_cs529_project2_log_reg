{
  "nbformat": 4,
  "nbformat_minor": 0,
  "metadata": {
    "colab": {
      "provenance": []
    },
    "kernelspec": {
      "name": "python3",
      "display_name": "Python 3"
    },
    "language_info": {
      "name": "python"
    }
  },
  "cells": [
    {
      "cell_type": "code",
      "execution_count": null,
      "metadata": {
        "colab": {
          "base_uri": "https://localhost:8080/"
        },
        "id": "gJc-FCKP6RNj",
        "outputId": "c59597c5-7b82-412f-e461-11d030fdf1e5"
      },
      "outputs": [
        {
          "output_type": "stream",
          "name": "stdout",
          "text": [
            "Requirement already satisfied: pydub in /usr/local/lib/python3.10/dist-packages (0.25.1)\n"
          ]
        }
      ],
      "source": [
        "!pip install pydub"
      ]
    },
    {
      "cell_type": "code",
      "source": [
        "from google.colab import drive\n",
        "drive.mount('/content/drive')"
      ],
      "metadata": {
        "colab": {
          "base_uri": "https://localhost:8080/"
        },
        "id": "OqduW-DUa8aV",
        "outputId": "63825557-e35d-4422-8c5c-ec5420e70a28"
      },
      "execution_count": null,
      "outputs": [
        {
          "output_type": "stream",
          "name": "stdout",
          "text": [
            "Drive already mounted at /content/drive; to attempt to forcibly remount, call drive.mount(\"/content/drive\", force_remount=True).\n"
          ]
        }
      ]
    },
    {
      "cell_type": "code",
      "source": [
        "import numpy as np\n",
        "import pandas as pd\n",
        "import matplotlib.pyplot as pt\n",
        "\n",
        "from scipy.io import wavfile\n",
        "import librosa\n",
        "import librosa.display\n",
        "import pydub\n",
        "from scipy.io import wavfile\n",
        "\n",
        "import os\n",
        "import time\n",
        "import zipfile\n",
        "import io\n",
        "import sys\n"
      ],
      "metadata": {
        "id": "dE4JCi7MP2_v"
      },
      "execution_count": null,
      "outputs": []
    },
    {
      "cell_type": "code",
      "source": [
        "FOLDER_PATH = ( os.path.join( os.getcwd(), 'drive', 'MyDrive', 'CS529' ))## , 'data.zip') )\n",
        "ZIP_FILE = 'data.zip'\n",
        "\n",
        "ZIP_FILE_PATH = os.path.join(FOLDER_PATH, ZIP_FILE)\n",
        "\n",
        "TRAIN_FILE_PATH = os.path.join(ZIP_FILE_PATH, 'train')"
      ],
      "metadata": {
        "id": "IqZkWtoSQC9c"
      },
      "execution_count": null,
      "outputs": []
    },
    {
      "cell_type": "code",
      "source": [
        "# List to store folder names\n",
        "folder_names = []\n",
        "\n",
        "# Open the zip file\n",
        "with zipfile.ZipFile(ZIP_FILE_PATH, 'r') as zip_ref:\n",
        "\n",
        "    # Iterate through the contents of the zip file\n",
        "    for member in zip_ref.infolist():\n",
        "\n",
        "        # Check if the member is a directory (ends with '/')\n",
        "        if member.filename.endswith('/'):\n",
        "\n",
        "            # Extract the folder name and add it to the list\n",
        "            folder_names.append(os.path.basename(member.filename.rstrip('/')))\n",
        "\n",
        "# Print the list of folder names\n",
        "print(\"Folders in the ZIP file:\", folder_names)"
      ],
      "metadata": {
        "colab": {
          "base_uri": "https://localhost:8080/"
        },
        "id": "a0EkhfghQEZO",
        "outputId": "c00fc0d4-3e33-420b-d8d7-66cc5a878ef9"
      },
      "execution_count": null,
      "outputs": [
        {
          "output_type": "stream",
          "name": "stdout",
          "text": [
            "Folders in the ZIP file: ['train', 'pop', 'metal', 'disco', 'blues', 'reggae', 'classical', 'rock', 'hiphop', 'country', 'jazz', 'test']\n"
          ]
        }
      ]
    },
    {
      "cell_type": "code",
      "source": [
        "\"\"\"\n",
        "There are 12 genres in the file\n",
        "\"\"\"\n",
        "genres = folder_names\n",
        "len(folder_names)\n",
        "\n",
        "genres.remove('train')\n",
        "genres.remove('test')\n"
      ],
      "metadata": {
        "id": "IdLnpxLwQa8V"
      },
      "execution_count": null,
      "outputs": []
    },
    {
      "cell_type": "code",
      "source": [],
      "metadata": {
        "id": "CDcMzTnsev-n"
      },
      "execution_count": null,
      "outputs": []
    },
    {
      "cell_type": "code",
      "source": [
        "TRAIN_FOLDER_PATH = '/content/drive/MyDrive/CS529/data.zip/train'\n",
        "\n",
        "ZIP_FILE_PATH = os.path.join(FOLDER_PATH, ZIP_FILE)\n",
        "TRAIN_FILE_PATH = os.path.join(ZIP_FILE_PATH, 'train')"
      ],
      "metadata": {
        "id": "pNcPbibMfJU_"
      },
      "execution_count": null,
      "outputs": []
    },
    {
      "cell_type": "code",
      "source": [
        "#import os\n",
        "#import zipfile\n",
        "#import io\n",
        "#import numpy as np\n",
        "#import matplotlib.pyplot as plt\n",
        "#import pydub\n",
        "\"\"\"\n",
        "# Define the path to the ZIP file and the train folder within it\n",
        "ZIP_FILE_PATH = '/content/drive/MyDrive/CS529/data.zip'\n",
        "TRAIN_FOLDER_PATH = 'train/'\n",
        "\n",
        "# Open the ZIP file\n",
        "with zipfile.ZipFile(ZIP_FILE_PATH, 'r') as zip_ref:\n",
        "    # Get a list of all files and folders in the train folder\n",
        "    train_contents = zip_ref.namelist()\n",
        "\n",
        "\n",
        "    # Iterate over the train folder contents\n",
        "    for item in train_contents:\n",
        "\n",
        "        # Check if the item is a directory (folder) and is within the train folder\n",
        "        if item.startswith(TRAIN_FOLDER_PATH) and item.endswith('/'):\n",
        "\n",
        "            # Extract the genre folder name\n",
        "            genre_folder_name = item[len(TRAIN_FOLDER_PATH):].rstrip('/')\n",
        "\n",
        "            # Print the genre folder name\n",
        "            print(\"Reading files in '{}' genre...\".format(genre_folder_name))\n",
        "\n",
        "            # List to store .au file names\n",
        "            au_file_names = []\n",
        "\n",
        "\n",
        "\n",
        "\n",
        "\n",
        "            # Iterate over the contents of the genre folder\n",
        "            for file_name in train_contents:\n",
        "\n",
        "\n",
        "\n",
        "                # Check if the file is inside the current genre folder and is an .au file\n",
        "\n",
        "                if file_name.startswith(item) and file_name.endswith('.au'):\n",
        "\n",
        "                    # Read the contents of the .au file\n",
        "                    with zip_ref.open(file_name) as au_file:\n",
        "\n",
        "                        # Perform operations with the .au file content\n",
        "                        print(\"Reading\", file_name)\n",
        "\n",
        "                        # Read the .au file content\n",
        "                        audio = pydub.AudioSegment.from_file(io.BytesIO(au_file.read()), format=\"au\")\n",
        "\n",
        "                        audio_array = np.array(audio.get_array_of_samples())\n",
        "                        sample_rate = audio.frame_rate\n",
        "\n",
        "                        # Plot the audio signal\n",
        "                        #plt.figure(figsize=(10, 4))\n",
        "                        #plt.plot(audio_array)\n",
        "                        #plt.title('Audio Signal: {}'.format(file_name))\n",
        "                        #plt.xlabel('Sample')\n",
        "                        #plt.ylabel('Amplitude')\n",
        "                        #plt.show()\n",
        "\n",
        "                        # Append the .au file name to the list\n",
        "                        au_file_names.append(file_name)\n",
        "\n",
        "\n",
        "\n",
        "            # Print the list of .au file names read in the genre folder\n",
        "            print(\"Files read in '{}' genre: {}\".format(genre_folder_name, au_file_names))\n",
        "            print()  # Add a blank line for separation\n",
        "\n",
        "\"\"\""
      ],
      "metadata": {
        "colab": {
          "base_uri": "https://localhost:8080/",
          "height": 178
        },
        "id": "qLMMTsakflQv",
        "outputId": "0a9bb987-b74f-4af4-c87d-548fdfc04737"
      },
      "execution_count": null,
      "outputs": [
        {
          "output_type": "execute_result",
          "data": {
            "text/plain": [
              "'\\n# Define the path to the ZIP file and the train folder within it\\nZIP_FILE_PATH = \\'/content/drive/MyDrive/CS529/data.zip\\'\\nTRAIN_FOLDER_PATH = \\'train/\\'\\n\\n# Open the ZIP file\\nwith zipfile.ZipFile(ZIP_FILE_PATH, \\'r\\') as zip_ref:\\n    # Get a list of all files and folders in the train folder\\n    train_contents = zip_ref.namelist()\\n\\n\\n    # Iterate over the train folder contents\\n    for item in train_contents:\\n\\n        # Check if the item is a directory (folder) and is within the train folder\\n        if item.startswith(TRAIN_FOLDER_PATH) and item.endswith(\\'/\\'):\\n\\n            # Extract the genre folder name\\n            genre_folder_name = item[len(TRAIN_FOLDER_PATH):].rstrip(\\'/\\')\\n\\n            # Print the genre folder name\\n            print(\"Reading files in \\'{}\\' genre...\".format(genre_folder_name))\\n\\n            # List to store .au file names\\n            au_file_names = []\\n\\n\\n\\n\\n\\n            # Iterate over the contents of the genre folder\\n            for file_name in train_contents:\\n\\n\\n\\n                # Check if the file is inside the current genre folder and is an .au file\\n\\n                if file_name.startswith(item) and file_name.endswith(\\'.au\\'):\\n\\n                    # Read the contents of the .au file\\n                    with zip_ref.open(file_name) as au_file:\\n\\n                        # Perform operations with the .au file content\\n                        print(\"Reading\", file_name)\\n\\n                        # Read the .au file content\\n                        audio = pydub.AudioSegment.from_file(io.BytesIO(au_file.read()), format=\"au\")\\n\\n                        audio_array = np.array(audio.get_array_of_samples())\\n                        sample_rate = audio.frame_rate\\n\\n                        # Plot the audio signal\\n                        #plt.figure(figsize=(10, 4))\\n                        #plt.plot(audio_array)\\n                        #plt.title(\\'Audio Signal: {}\\'.format(file_name))\\n                        #plt.xlabel(\\'Sample\\')\\n                        #plt.ylabel(\\'Amplitude\\')\\n                        #plt.show()\\n\\n                        # Append the .au file name to the list\\n                        au_file_names.append(file_name)\\n\\n                \\n\\n            # Print the list of .au file names read in the genre folder\\n            print(\"Files read in \\'{}\\' genre: {}\".format(genre_folder_name, au_file_names))\\n            print()  # Add a blank line for separation\\n\\n'"
            ],
            "application/vnd.google.colaboratory.intrinsic+json": {
              "type": "string"
            }
          },
          "metadata": {},
          "execution_count": 22
        }
      ]
    },
    {
      "cell_type": "code",
      "source": [
        "#au_file_names"
      ],
      "metadata": {
        "id": "SQcKADv5iB23"
      },
      "execution_count": null,
      "outputs": []
    },
    {
      "cell_type": "code",
      "source": [
        "os.listdir()"
      ],
      "metadata": {
        "colab": {
          "base_uri": "https://localhost:8080/"
        },
        "id": "5-6d60YmiM86",
        "outputId": "6d2fba38-0347-4399-81e7-6f687f7bf8a3"
      },
      "execution_count": null,
      "outputs": [
        {
          "output_type": "execute_result",
          "data": {
            "text/plain": [
              "['.config', 'drive', 'sample_data']"
            ]
          },
          "metadata": {},
          "execution_count": 24
        }
      ]
    },
    {
      "cell_type": "code",
      "source": [
        "import numpy as np\n",
        "import librosa\n",
        "import librosa.display\n",
        "import matplotlib.pyplot as plt\n",
        "import pydub\n",
        "from scipy.io import wavfile\n",
        "\n",
        "import time\n",
        "\n",
        "\n",
        "one_file = \"rock.00000.au\"\n",
        "song = os.path.join(FOLDER_PATH, one_file)\n",
        "\n",
        "#start_time = time.time()\n",
        "\n",
        "# Step 1: Read .au files and load into memory\n",
        "audio = pydub.AudioSegment.from_file (  song )\n",
        "audio_array = np.array(audio.get_array_of_samples()) # array of numbers\n",
        "sample_rate = audio.frame_rate # sample rate : integer\n",
        "\n",
        "print('audio_array : ', audio_array  )\n",
        "print('audio_array type : ', type(audio_array))\n",
        "\n",
        "audio_array = audio_array.astype(float)\n",
        "print('audio_array type, after conversion : ', type(audio_array))\n",
        "\n",
        "#sys.exit(0)\n",
        "\n",
        "\n",
        "\n",
        "# Step 2: Preprocessing (optional)\n",
        "# Apply any necessary preprocessing steps here\n",
        "\n",
        "# Step 3: Extract relevant features\n",
        "mfccs = librosa.feature.mfcc(y=audio_array, sr=sample_rate, n_mfcc=13)\n",
        "chroma = librosa.feature.chroma_stft(y=audio_array, sr=sample_rate)\n",
        "\n",
        "stft = np.abs(librosa.stft(y=audio_array))\n",
        "contrast = librosa.feature.spectral_contrast(y=audio_array, sr=sample_rate)\n",
        "\n",
        "zcr = librosa.feature.zero_crossing_rate(y=audio_array)\n",
        "\n",
        "# Step 4: Organize extracted features\n",
        "# Combine features into feature vectors or matrices\n",
        "features = np.concatenate((mfccs, chroma, stft, contrast, zcr), axis=0)\n",
        "\n",
        "\n",
        "#end_time = time.time()\n",
        "\n",
        "# Step 5: Perform further analysis\n",
        "# Use the organized features for your analysis task\n",
        "# For example, visualize the features\n",
        "#plt.figure(figsize=(10, 6))\n",
        "#librosa.display.specshow(librosa.amplitude_to_db(stft, ref=np.max), y_axis='log', x_axis='time')\n",
        "#plt.title('STFT Spectrogram')\n",
        "#plt.colorbar(format='%+2.0f dB')\n",
        "#plt.tight_layout()\n",
        "#plt.show()\n"
      ],
      "metadata": {
        "colab": {
          "base_uri": "https://localhost:8080/"
        },
        "id": "hm_K7ohRlUfU",
        "outputId": "0693e51c-27a5-4d2d-858c-0cf34bb1f2ae"
      },
      "execution_count": null,
      "outputs": [
        {
          "output_type": "stream",
          "name": "stdout",
          "text": [
            "audio_array :  [-1096 -1799 -1781 ... -2758   946  4250]\n",
            "audio_array type :  <class 'numpy.ndarray'>\n",
            "audio_array type, after conversion :  <class 'numpy.ndarray'>\n"
          ]
        }
      ]
    },
    {
      "cell_type": "code",
      "source": [
        "features.shape"
      ],
      "metadata": {
        "colab": {
          "base_uri": "https://localhost:8080/"
        },
        "id": "stkvPHu1lfyt",
        "outputId": "8d969f6e-b027-4b41-c0ae-dc835c25fca4"
      },
      "execution_count": null,
      "outputs": [
        {
          "output_type": "execute_result",
          "data": {
            "text/plain": [
              "(1058, 1293)"
            ]
          },
          "metadata": {},
          "execution_count": 35
        }
      ]
    },
    {
      "cell_type": "code",
      "source": [
        "sample_rate"
      ],
      "metadata": {
        "colab": {
          "base_uri": "https://localhost:8080/"
        },
        "id": "nx4AxlxKl6m7",
        "outputId": "c06ccde1-0cc9-4fa5-d7cc-e404c5d7e087"
      },
      "execution_count": null,
      "outputs": [
        {
          "output_type": "execute_result",
          "data": {
            "text/plain": [
              "22050"
            ]
          },
          "metadata": {},
          "execution_count": 34
        }
      ]
    },
    {
      "cell_type": "code",
      "source": [
        "\"\"\"\n",
        "Here, we are just preprocessing 1 file\n",
        "\"\"\"\n",
        "\n",
        "import numpy as np\n",
        "import librosa\n",
        "import librosa.display\n",
        "import matplotlib.pyplot as plt\n",
        "import pydub\n",
        "from scipy.io import wavfile\n",
        "\n",
        "import os\n",
        "\n",
        "one_file = \"rock.00000.au\"\n",
        "song = os.path.join(FOLDER_PATH, one_file)\n",
        "\n",
        "# Step 1: Read .au files and load into memory\n",
        "audio = pydub.AudioSegment.from_file(song)\n",
        "audio_array = np.array(audio.get_array_of_samples())  # array of numbers\n",
        "sample_rate = audio.frame_rate  # sample rate : integer\n",
        "\n",
        "# Convert audio_array to float for processing\n",
        "audio_array = audio_array.astype(float)\n",
        "\n",
        "# Step 2: Preprocessing (optional)\n",
        "# Apply any necessary preprocessing steps here\n",
        "\n",
        "# Step 3: Extract relevant features\n",
        "mfccs = librosa.feature.mfcc(y=audio_array, sr=sample_rate, n_mfcc=13)\n",
        "chroma = librosa.feature.chroma_stft(y=audio_array, sr=sample_rate)\n",
        "stft = np.abs(librosa.stft(y=audio_array))\n",
        "contrast = librosa.feature.spectral_contrast(y=audio_array, sr=sample_rate)\n",
        "zcr = librosa.feature.zero_crossing_rate(y=audio_array)\n",
        "\n",
        "# Step 4: Organize extracted features\n",
        "# Flatten the feature matrices and concatenate them into a single feature vector\n",
        "mfccs_flat = mfccs.flatten()\n",
        "chroma_flat = chroma.flatten()\n",
        "\n",
        "stft_flat = stft.flatten()\n",
        "contrast_flat = contrast.flatten()\n",
        "zcr_flat = zcr.flatten()\n",
        "\n",
        "# Combine all the flattened features into a single feature vector\n",
        "feature_vector = np.concatenate((mfccs_flat, chroma_flat, stft_flat, contrast_flat, zcr_flat))\n",
        "\n",
        "# Step 5: Perform further analysis\n",
        "# Use the organized features for your analysis task\n",
        "# For example, visualize the features\n",
        "# Note: Since we are not displaying a spectrogram, you can comment out this part if not needed\n",
        "# plt.figure(figsize=(10, 6))\n",
        "# librosa.display.specshow(librosa.amplitude_to_db(stft, ref=np.max), y_axis='log', x_axis='time')\n",
        "# plt.title('STFT Spectrogram')\n",
        "# plt.colorbar(format='%+2.0f dB')\n",
        "# plt.tight_layout()\n",
        "# plt.show()\n"
      ],
      "metadata": {
        "id": "msiCrYxtl-5z"
      },
      "execution_count": null,
      "outputs": []
    },
    {
      "cell_type": "code",
      "source": [
        "feature_vector.shape"
      ],
      "metadata": {
        "id": "zWT-71uhHtQz",
        "outputId": "16a7f485-e2b0-48ae-c946-07b00daf9201",
        "colab": {
          "base_uri": "https://localhost:8080/"
        }
      },
      "execution_count": null,
      "outputs": [
        {
          "output_type": "execute_result",
          "data": {
            "text/plain": [
              "(1367994,)"
            ]
          },
          "metadata": {},
          "execution_count": 37
        }
      ]
    },
    {
      "cell_type": "code",
      "source": [],
      "metadata": {
        "id": "JUDH0RFDHw_S"
      },
      "execution_count": null,
      "outputs": []
    }
  ]
}