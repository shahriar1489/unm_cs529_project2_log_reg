{
  "nbformat": 4,
  "nbformat_minor": 0,
  "metadata": {
    "colab": {
      "provenance": []
    },
    "kernelspec": {
      "name": "python3",
      "display_name": "Python 3"
    },
    "language_info": {
      "name": "python"
    }
  },
  "cells": [
    {
      "cell_type": "code",
      "execution_count": null,
      "metadata": {
        "id": "E2mIM9SQki93",
        "colab": {
          "base_uri": "https://localhost:8080/"
        },
        "outputId": "94873078-7718-4a7c-9e32-5b5968953260"
      },
      "outputs": [
        {
          "output_type": "execute_result",
          "data": {
            "text/plain": [
              "{'divide': 'ignore', 'over': 'warn', 'under': 'ignore', 'invalid': 'ignore'}"
            ]
          },
          "metadata": {},
          "execution_count": 17
        }
      ],
      "source": [
        "import numpy as np\n",
        "import matplotlib.pyplot as plt\n",
        "import pandas as pd\n",
        "\n",
        "from sklearn.preprocessing import StandardScaler\n",
        "from sklearn.preprocessing import LabelEncoder\n",
        "from sklearn.preprocessing import OneHotEncoder\n",
        "from sklearn.preprocessing import MaxAbsScaler\n",
        "\n",
        "from sklearn.decomposition import PCA\n",
        "from sklearn.model_selection import train_test_split\n",
        "from sklearn.metrics import accuracy_score, precision_score, recall_score, classification_report, f1_score\n",
        "\n",
        "from sklearn.model_selection import GridSearchCV\n",
        "\n",
        "from sklearn.base import BaseEstimator\n",
        "\n",
        "from sklearn.manifold import TSNE\n",
        "import matplotlib.pyplot as plt\n",
        "\n",
        "import time\n",
        "import os\n",
        "\n",
        "import sys\n",
        "\n",
        "np.seterr(divide='ignore', invalid='ignore')"
      ]
    },
    {
      "cell_type": "code",
      "source": [
        "#from google.colab import drive\n",
        "#drive.mount('/content/drive')"
      ],
      "metadata": {
        "colab": {
          "base_uri": "https://localhost:8080/"
        },
        "id": "IszwdXJ9kkXT",
        "outputId": "1a26bba0-c316-4a3c-c8c6-b5b08043015a"
      },
      "execution_count": null,
      "outputs": [
        {
          "output_type": "stream",
          "name": "stdout",
          "text": [
            "Drive already mounted at /content/drive; to attempt to forcibly remount, call drive.mount(\"/content/drive\", force_remount=True).\n"
          ]
        }
      ]
    },
    {
      "cell_type": "markdown",
      "source": [
        "## Logistic Regression Implementation\n"
      ],
      "metadata": {
        "id": "_U86lWP29q7r"
      }
    },
    {
      "cell_type": "code",
      "source": [
        "class LogisticRegressionGD(BaseEstimator):\n",
        "\n",
        "  def __init__(self, no_of_iterations=1000, lambda_reg =  0.1, learning_rate=0.05, regularization=False):\n",
        "\n",
        "    self.no_of_iterations = no_of_iterations\n",
        "    self.lambda_reg = lambda_reg\n",
        "    self.learning_rate = learning_rate\n",
        "\n",
        "    self.biases_ = None\n",
        "    self.weights_ = None\n",
        "\n",
        "    self.encoder = OneHotEncoder()\n",
        "    self.no_of_unique_labels = None\n",
        "\n",
        "    self.costs = []\n",
        "    self.tol = 1e-4\n",
        "    self.regularization = regularization\n",
        "\n",
        "  def fit(self, X_train, y_train):\n",
        "\n",
        "    # convert both the input to numpy array\n",
        "    X_train = np.array(X_train)\n",
        "    y_train = np.array(y_train).reshape(-1, 1)\n",
        "\n",
        "    y_train_enc = self.encoder.fit_transform(y_train).toarray() # One hot encoder applied. y_train now has a vector at each row for each label\n",
        "\n",
        "    self.no_of_unique_labels = len(np.unique(y_train))\n",
        "\n",
        "    # initialize  and add the bias column\n",
        "    bias_column = np.ones( (X_train.shape[0], 1) )\n",
        "    X_train = np.hstack(( bias_column, X_train)) # addint bias column to X_train\n",
        "\n",
        "    # initialize the weight AND get the unique labels\n",
        "    no_of_labels_minus_1 = len(np.unique( y_train ))-1\n",
        "    weights = np.random.rand( X_train.shape[1], no_of_labels_minus_1)\n",
        "\n",
        "    conditional_probabilities = np.exp( np.dot(   X_train, weights ) ) # shape ()\n",
        "\n",
        "    #print('conditional probablities shape, before adding last rows: ', conditional_probabilities.shape)\n",
        "    sum_across_rows = np.array( np.sum(conditional_probabilities , axis = 1 ) + 1).reshape(1, -1) # shape (900)\n",
        "    #print('sum_across_rows shape: ',sum_across_rows.shape) # (1, 71) this is the right shape\n",
        "\n",
        "    conditional_probabilities = conditional_probabilities / sum_across_rows.reshape(-1, 1)\n",
        "    last_column = np.array( 1/sum_across_rows).reshape( - 1, 1)\n",
        "    conditional_probabilities = np.hstack( (conditional_probabilities, last_column) )\n",
        "\n",
        "    #print('conditional probablities shape, after adding last rows: ', conditional_probabilities.shape)\n",
        "\n",
        "    \"\"\"\n",
        "    1. Conditional Log Likelihood\n",
        "    \"\"\"\n",
        "\n",
        "    y_pred = np.argmax(conditional_probabilities, axis=1).reshape(-1, 1) # label predicted\n",
        "    y_prob = np.max(conditional_probabilities, axis=1).reshape(-1, 1) # probability of predicted label\n",
        "\n",
        "\n",
        "    #print('----- WEIGHT UPDATE -----')\n",
        "\n",
        "    for epoch in range(1000):\n",
        "      weights = self.gradient_descent( X_train, y_train_enc, weights)\n",
        "\n",
        "    #print('-------------------------')\n",
        "\n",
        "    \"\"\"\n",
        "    Store weights after training\n",
        "    \"\"\"\n",
        "    self.weights_ = weights\n",
        "\n",
        "    \"\"\"\n",
        "    Training is complete. weights now has the updated weights\n",
        "    \"\"\"\n",
        "\n",
        "  def conditional_probabilities(self, X, weights):\n",
        "    \"\"\"\n",
        "    This method does not add bias column to the X feature set\n",
        "    \"\"\"\n",
        "\n",
        "    # get the unique labels\n",
        "    no_of_labels_minus_1 = len(np.unique( y_train ))-1\n",
        "    conditional_probabilities = np.exp( np.dot(   X, weights ) )\n",
        "\n",
        "    #print('conditional probablities shape, before adding last column: ', conditional_probabilities.shape)\n",
        "    sum_across_rows = np.array( np.sum(conditional_probabilities , axis = 1 ) + 1).reshape(1, -1) # shape (900)\n",
        "    #print('sum_across_rows shape: ',sum_across_rows.shape) # (1, 71) this is the right shape\n",
        "\n",
        "    conditional_probabilities = conditional_probabilities / sum_across_rows.reshape(-1, 1)\n",
        "    last_column = np.array( 1/sum_across_rows).reshape( - 1, 1)\n",
        "\n",
        "    conditional_probabilities = np.hstack( (conditional_probabilities, last_column) )\n",
        "\n",
        "    #if not np.allclose( 1, np.sum(conditional_probabilities, axis=1) ):\n",
        "    #  print('sum across rows is NOT 1')\n",
        "\n",
        "    return conditional_probabilities\n",
        "\n",
        "  def predict(self, X_test):\n",
        "    # get the unique labels\n",
        "    no_of_labels_minus_1 = self.no_of_unique_labels - 1\n",
        "    weights = self.weights_\n",
        "\n",
        "    # initialize  and add the bias column\n",
        "    bias_column = np.ones( (X_test.shape[0], 1) )\n",
        "    X_test = np.hstack(( bias_column, X_test)) # addint bias column to X_train\n",
        "\n",
        "    conditional_probabilites = self.conditional_probabilities(X_test, self.weights_)\n",
        "\n",
        "    y_pred_index = np.argmax( conditional_probabilites, axis=1).reshape(-1, 1) # label predicted\n",
        "    y_prob = np.max( conditional_probabilites, axis=1).reshape(-1, 1) # probability of predicted label\n",
        "\n",
        "    y_pred = np.zeros(( X_test.shape[0], self.no_of_unique_labels ))\n",
        "\n",
        "    \"\"\"\n",
        "    At each row of y_pred, at I want to set 1 for the index value in y_pred index\n",
        "    \"\"\"\n",
        "\n",
        "    y_pred[ np.arange(len(y_pred)), y_pred_index.ravel() ] = 1\n",
        "\n",
        "    return self.encoder.inverse_transform(y_pred)\n",
        "\n",
        "  def get_costs(self):\n",
        "    return self.costs\n",
        "\n",
        "  def cross_entropy(self, output, y_target):\n",
        "    return - np.sum(np.log(output + 1e-9) * (y_target), axis=1)\n",
        "\n",
        "  def compute_cost(self, output, y_target):\n",
        "    return np.mean(self.cross_entropy(output, y_target))\n",
        "\n",
        "  def gradient_descent(self, X, y_enc, weights):\n",
        "\n",
        "    for i in range(self.no_of_iterations):\n",
        "\n",
        "      conditional_probabilities = self.conditional_probabilities(X, weights) # aka softmax\n",
        "\n",
        "      diff = conditional_probabilities - y_enc\n",
        "      mse = np.mean(diff, axis = 0 ) # not sure how to use this though\n",
        "\n",
        "      # gradient -> n_features x n_classes (n x m)\n",
        "\n",
        "      # X tranpose -> n_features x n_instances (k )\n",
        "      # diff -> n_instances\n",
        "      #print('X shape : ', X.shape)\n",
        "      #print('conditional probabilites shape : ', conditional_probabilities.shape)\n",
        "      #print('diff shape : ', diff.shape)\n",
        "\n",
        "      gradient = np.dot(X.T, diff) # this is the line I was missing\n",
        "      #print('gradient shape : ', gradient.shape)\n",
        "\n",
        "      # weight update in opposite direction\n",
        "      weights -= ( self.learning_rate * gradient[:, 0:-1] )\n",
        "\n",
        "      # regularization term\n",
        "      if self.regularization:\n",
        "         weights += self.learning_rate * self.lambda_reg * weights\n",
        "\n",
        "      \"\"\"\n",
        "      Two expressions above sums up eqn 29\n",
        "      \"\"\"\n",
        "\n",
        "      #cost = self.cost(self.compute_cost( conditional_probabilities, y_enc ) )\n",
        "      cost = self.compute_cost( conditional_probabilities, y_enc )\n",
        "\n",
        "      self.costs.append(cost) # ok\n",
        "\n",
        "      return weights\n",
        "      \"\"\"\n",
        "      Get the cost and and add it to list\n",
        "      \"\"\""
      ],
      "metadata": {
        "id": "KDG9HqwVkm9_"
      },
      "execution_count": null,
      "outputs": []
    },
    {
      "cell_type": "code",
      "source": [
        "TEST_FILE_PATH = \"test.csv\" #\"/content/drive/MyDrive/CS529/test.csv\"\n",
        "TRAIN_FILE_PATH = \"train.csv\" #\"/content/drive/MyDrive/CS529/train.csv\"\n",
        "\n",
        "df_train = pd.read_csv(TRAIN_FILE_PATH)\n",
        "\n",
        "df_train = df_train.sample(frac=1)\n",
        "df_test = pd.read_csv(TEST_FILE_PATH)\n",
        "\n",
        "# Get X_train and y_train\n",
        "\n",
        "X_train = df_train.iloc[:, 0:-1]\n",
        "y_train = df_train.iloc[:, -1]\n",
        "\n",
        "\n",
        "X_test = df_test\n",
        "\n",
        "# Standardize the data to overcome overflow\n",
        "std = StandardScaler()\n",
        "pca = PCA(n_components=0.95)\n",
        "\n",
        "\n",
        "X_train_std = std.fit_transform( X_train )\n",
        "X_test_std = std.transform(X_test)\n",
        "\n",
        "X_train_std_pca = pca.fit_transform(X_train_std)\n",
        "X_test_std_pca = pca.transform(X_test_std)\n",
        "\n",
        "\n",
        "# Do maximum absolutte scaling on\n",
        "# Use MaxAbsScaler\n",
        "mab_scaler_0 = MaxAbsScaler()\n",
        "\n",
        "X_train_std_pca_mab = mab_scaler_0.fit_transform(X_train_std_pca )\n",
        "X_test_std_pca_mab = mab_scaler_0.transform(X_test_std_pca)\n",
        "\n",
        "\n",
        "print('X_train_std_pca shape : ', X_train_std_pca.shape)\n",
        "print('X_test_std_pca shape : ', X_test_std_pca.shape)\n",
        "\n",
        "print('y_train shape : ', y_train.shape)\n",
        "print( np.unique(y_train, return_counts=True) )\n",
        "print(df_train.head())"
      ],
      "metadata": {
        "colab": {
          "base_uri": "https://localhost:8080/"
        },
        "id": "QDs9PSrykwjv",
        "outputId": "8ffddd53-ff60-41be-dcd9-373b2ac1e085"
      },
      "execution_count": null,
      "outputs": [
        {
          "output_type": "stream",
          "name": "stdout",
          "text": [
            "X_train_std_pca shape :  (900, 70)\n",
            "X_test_std_pca shape :  (100, 70)\n",
            "y_train shape :  (900,)\n",
            "(array(['blues', 'classical', 'country', 'disco', 'hiphop', 'jazz',\n",
            "       'metal', 'pop', 'reggae', 'rock'], dtype=object), array([90, 90, 90, 90, 90, 90, 90, 90, 90, 90]))\n",
            "              0           1          2          3          4          5  \\\n",
            "121  -45.855606  107.999084 -11.737645  66.326881 -30.206829   9.242658   \n",
            "749 -173.443466  105.070961   1.155593  24.115499  22.134285   2.548073   \n",
            "0    -94.507706   55.671040  29.266260  27.035044  20.046722   1.184787   \n",
            "495 -402.208252  153.976746 -15.228629  15.294281  -3.071624  -3.183727   \n",
            "557  -52.480682   99.707962 -47.386406  47.017590 -21.017344  22.883759   \n",
            "\n",
            "             6          7          8          9  ...       1379       1380  \\\n",
            "121 -25.778023  21.871576 -17.935884  10.272776  ...  19.656661  21.859923   \n",
            "749  -1.589373   0.166444  -5.327747   3.813227  ...  24.519968  21.655132   \n",
            "0    12.946829  -0.798539   8.866569  -0.681519  ...  23.611727  22.235783   \n",
            "495  -9.759971 -17.305773 -12.305010  -7.918075  ...  34.171831  30.902492   \n",
            "557 -18.278618  13.886501 -23.446274  13.512140  ...  22.206920  23.688126   \n",
            "\n",
            "          1381      1382      1383      1384      1385      1386      1387  \\\n",
            "121  47.342613  0.073242  0.084961  0.093262  0.112305  0.124512  0.143555   \n",
            "749  17.557111  0.043457  0.055664  0.066162  0.085449  0.099121  0.119629   \n",
            "0    19.696827  0.049805  0.064941  0.080566  0.125000  0.156738  0.208984   \n",
            "495  23.670491  0.048340  0.054688  0.060547  0.075195  0.084473  0.098877   \n",
            "557  45.234858  0.096680  0.111816  0.122559  0.148438  0.167480  0.202148   \n",
            "\n",
            "        target  \n",
            "121      metal  \n",
            "749    country  \n",
            "0          pop  \n",
            "495  classical  \n",
            "557       rock  \n",
            "\n",
            "[5 rows x 1389 columns]\n"
          ]
        }
      ]
    },
    {
      "cell_type": "code",
      "source": [
        "( np.array([2, 4, 6, 12, 10]) == np.array([2, 4, 6, 8, 10]) ).astype(int)"
      ],
      "metadata": {
        "colab": {
          "base_uri": "https://localhost:8080/"
        },
        "id": "MMoQ3Ih6Tr6p",
        "outputId": "32025e86-81fd-49ae-986c-3ac1afada71b"
      },
      "execution_count": null,
      "outputs": [
        {
          "output_type": "execute_result",
          "data": {
            "text/plain": [
              "array([1, 1, 1, 0, 1])"
            ]
          },
          "metadata": {},
          "execution_count": 21
        }
      ]
    },
    {
      "cell_type": "code",
      "source": [
        "#np.unique( y_pred, return_counts=True)"
      ],
      "metadata": {
        "id": "FE6jUhBLTx2I"
      },
      "execution_count": null,
      "outputs": []
    },
    {
      "cell_type": "code",
      "source": [
        "\n",
        "\"\"\"\n",
        "TRAIN-VALIDATION TEST\n",
        "\"\"\"\n",
        "\n",
        "df_train = pd.read_csv(TRAIN_FILE_PATH)\n",
        "df_test = pd.read_csv(TEST_FILE_PATH)\n",
        "\n",
        "# Get X_train and y_train\n",
        "\n",
        "X_train_ = df_train.iloc[:, 0:-1]\n",
        "y_train_ = df_train.iloc[:, -1]\n",
        "\n",
        "\n",
        "# split the data into train and validation\n",
        "X_tr , X_val , y_tr, y_val = train_test_split(X_train_, y_train_, test_size=0.15, )\n",
        "\n",
        "\n",
        "# Standardize the data to overcome overflow\n",
        "std1 = StandardScaler()\n",
        "pca1 = PCA(n_components=0.95)\n",
        "\n",
        "X_tr_std = std1.fit_transform( X_tr )\n",
        "X_val_std = std1.transform(X_val)\n",
        "\n",
        "X_tr_std_pca = pca1.fit_transform(X_tr_std)\n",
        "X_val_std_pca = pca1.transform(X_val_std)\n",
        "\n",
        "print(X_tr_std_pca.shape)\n",
        "\n",
        "\n",
        "# Use MaxAbsScaler\n",
        "mab_scaler = MaxAbsScaler()\n",
        "\n",
        "X_tr_std_pca_mab = mab_scaler.fit_transform(X_tr_std_pca )\n",
        "X_val_std_pca_mab = mab_scaler.transform(X_val_std_pca)"
      ],
      "metadata": {
        "id": "6CH_J0ZzybVc",
        "colab": {
          "base_uri": "https://localhost:8080/"
        },
        "outputId": "dc2043aa-6341-46c7-d162-3f59f008dbaf"
      },
      "execution_count": null,
      "outputs": [
        {
          "output_type": "stream",
          "name": "stdout",
          "text": [
            "(765, 68)\n"
          ]
        }
      ]
    },
    {
      "cell_type": "code",
      "source": [
        "start_time_1 = time.time()\n",
        "\n",
        "clf1 = LogisticRegressionGD(no_of_iterations=10, lambda_reg =  0.1, learning_rate=0.01)\n",
        "#clf1.fit(np.clip( X_tr_std_pca, -1.0**-3, 1.0**3 ), y_tr)\n",
        "clf1.fit(X_tr_std_pca_mab , y_tr)\n",
        "\n",
        "#clf1.fit( X_tr_std_pca, y_tr)\n",
        "\n",
        "end_time_1 = time.time()\n",
        "\n",
        "#print(accuracy_score(y_val, y_pred1)*100)\n",
        "\n"
      ],
      "metadata": {
        "id": "c5JRs5Ghzrc4"
      },
      "execution_count": null,
      "outputs": []
    },
    {
      "cell_type": "code",
      "source": [
        "y_pred1 = clf1.predict(X_val_std_pca_mab)\n",
        "\n",
        "\n",
        "print('accuracy score : ', accuracy_score(y_val, y_pred1) )\n"
      ],
      "metadata": {
        "colab": {
          "base_uri": "https://localhost:8080/"
        },
        "id": "4ImCjCBb9Mg4",
        "outputId": "63b0b420-1a4a-472f-c921-f8792b39fa3d"
      },
      "execution_count": null,
      "outputs": [
        {
          "output_type": "stream",
          "name": "stdout",
          "text": [
            "accuracy score :  0.7185185185185186\n"
          ]
        }
      ]
    },
    {
      "cell_type": "code",
      "source": [
        "# Assuming you have your data prepared (X_train, X_test, y_train, y_test)\n",
        "\n",
        "# Define hyperparameter grid\n",
        "\n",
        "param_grid = {\n",
        "    'no_of_iterations': [100, 500, 1000],  # Number of training iterations\n",
        "    'learning_rate': [0.001, 0.01, 0.1],\n",
        "\n",
        "    'lambda_reg': [0.01, 0.1, 1.0],  # Regularization parameter (lambda)\n",
        "    'regularization':[True, False]\n",
        "}\n",
        "\n",
        "# Create a GridSearchCV object\n",
        "grid_search = GridSearchCV(estimator=LogisticRegressionGD(), param_grid=param_grid, cv=5, scoring='accuracy')\n"
      ],
      "metadata": {
        "id": "g_fD-ozRw5l_"
      },
      "execution_count": null,
      "outputs": []
    },
    {
      "cell_type": "code",
      "source": [
        "grid_time_start = time.time()\n",
        "grid_search.fit(X_train_std_pca_mab, y_train)\n",
        "grid_time_end = time.time()\n",
        "\n",
        "best_model = grid_search.best_estimator_\n",
        "best_params = grid_search.best_params_\n",
        "\n",
        "\n"
      ],
      "metadata": {
        "colab": {
          "base_uri": "https://localhost:8080/"
        },
        "id": "VVgiIl9V5URX",
        "outputId": "fad96546-420c-462b-ef0c-6fb37509093b"
      },
      "execution_count": null,
      "outputs": [
        {
          "output_type": "stream",
          "name": "stderr",
          "text": [
            "<ipython-input-19-84d2955e04e1>:80: RuntimeWarning: overflow encountered in exp\n",
            "  conditional_probabilities = np.exp( np.dot(   X, weights ) )\n",
            "<ipython-input-19-84d2955e04e1>:80: RuntimeWarning: overflow encountered in exp\n",
            "  conditional_probabilities = np.exp( np.dot(   X, weights ) )\n",
            "<ipython-input-19-84d2955e04e1>:80: RuntimeWarning: overflow encountered in exp\n",
            "  conditional_probabilities = np.exp( np.dot(   X, weights ) )\n",
            "<ipython-input-19-84d2955e04e1>:80: RuntimeWarning: overflow encountered in exp\n",
            "  conditional_probabilities = np.exp( np.dot(   X, weights ) )\n",
            "<ipython-input-19-84d2955e04e1>:80: RuntimeWarning: overflow encountered in exp\n",
            "  conditional_probabilities = np.exp( np.dot(   X, weights ) )\n",
            "<ipython-input-19-84d2955e04e1>:80: RuntimeWarning: overflow encountered in exp\n",
            "  conditional_probabilities = np.exp( np.dot(   X, weights ) )\n",
            "<ipython-input-19-84d2955e04e1>:80: RuntimeWarning: overflow encountered in exp\n",
            "  conditional_probabilities = np.exp( np.dot(   X, weights ) )\n",
            "<ipython-input-19-84d2955e04e1>:80: RuntimeWarning: overflow encountered in exp\n",
            "  conditional_probabilities = np.exp( np.dot(   X, weights ) )\n",
            "<ipython-input-19-84d2955e04e1>:80: RuntimeWarning: overflow encountered in exp\n",
            "  conditional_probabilities = np.exp( np.dot(   X, weights ) )\n",
            "<ipython-input-19-84d2955e04e1>:80: RuntimeWarning: overflow encountered in exp\n",
            "  conditional_probabilities = np.exp( np.dot(   X, weights ) )\n",
            "<ipython-input-19-84d2955e04e1>:80: RuntimeWarning: overflow encountered in exp\n",
            "  conditional_probabilities = np.exp( np.dot(   X, weights ) )\n",
            "<ipython-input-19-84d2955e04e1>:80: RuntimeWarning: overflow encountered in exp\n",
            "  conditional_probabilities = np.exp( np.dot(   X, weights ) )\n",
            "<ipython-input-19-84d2955e04e1>:80: RuntimeWarning: overflow encountered in exp\n",
            "  conditional_probabilities = np.exp( np.dot(   X, weights ) )\n",
            "<ipython-input-19-84d2955e04e1>:80: RuntimeWarning: overflow encountered in exp\n",
            "  conditional_probabilities = np.exp( np.dot(   X, weights ) )\n",
            "<ipython-input-19-84d2955e04e1>:80: RuntimeWarning: overflow encountered in exp\n",
            "  conditional_probabilities = np.exp( np.dot(   X, weights ) )\n",
            "<ipython-input-19-84d2955e04e1>:80: RuntimeWarning: overflow encountered in exp\n",
            "  conditional_probabilities = np.exp( np.dot(   X, weights ) )\n",
            "<ipython-input-19-84d2955e04e1>:80: RuntimeWarning: overflow encountered in exp\n",
            "  conditional_probabilities = np.exp( np.dot(   X, weights ) )\n",
            "<ipython-input-19-84d2955e04e1>:80: RuntimeWarning: overflow encountered in exp\n",
            "  conditional_probabilities = np.exp( np.dot(   X, weights ) )\n",
            "<ipython-input-19-84d2955e04e1>:80: RuntimeWarning: overflow encountered in exp\n",
            "  conditional_probabilities = np.exp( np.dot(   X, weights ) )\n",
            "<ipython-input-19-84d2955e04e1>:80: RuntimeWarning: overflow encountered in exp\n",
            "  conditional_probabilities = np.exp( np.dot(   X, weights ) )\n",
            "<ipython-input-19-84d2955e04e1>:80: RuntimeWarning: overflow encountered in exp\n",
            "  conditional_probabilities = np.exp( np.dot(   X, weights ) )\n",
            "<ipython-input-19-84d2955e04e1>:80: RuntimeWarning: overflow encountered in exp\n",
            "  conditional_probabilities = np.exp( np.dot(   X, weights ) )\n",
            "<ipython-input-19-84d2955e04e1>:80: RuntimeWarning: overflow encountered in exp\n",
            "  conditional_probabilities = np.exp( np.dot(   X, weights ) )\n",
            "<ipython-input-19-84d2955e04e1>:80: RuntimeWarning: overflow encountered in exp\n",
            "  conditional_probabilities = np.exp( np.dot(   X, weights ) )\n",
            "<ipython-input-19-84d2955e04e1>:80: RuntimeWarning: overflow encountered in exp\n",
            "  conditional_probabilities = np.exp( np.dot(   X, weights ) )\n",
            "<ipython-input-19-84d2955e04e1>:80: RuntimeWarning: overflow encountered in exp\n",
            "  conditional_probabilities = np.exp( np.dot(   X, weights ) )\n",
            "<ipython-input-19-84d2955e04e1>:80: RuntimeWarning: overflow encountered in exp\n",
            "  conditional_probabilities = np.exp( np.dot(   X, weights ) )\n",
            "<ipython-input-19-84d2955e04e1>:80: RuntimeWarning: overflow encountered in exp\n",
            "  conditional_probabilities = np.exp( np.dot(   X, weights ) )\n",
            "<ipython-input-19-84d2955e04e1>:80: RuntimeWarning: overflow encountered in exp\n",
            "  conditional_probabilities = np.exp( np.dot(   X, weights ) )\n",
            "<ipython-input-19-84d2955e04e1>:80: RuntimeWarning: overflow encountered in exp\n",
            "  conditional_probabilities = np.exp( np.dot(   X, weights ) )\n",
            "<ipython-input-19-84d2955e04e1>:80: RuntimeWarning: overflow encountered in exp\n",
            "  conditional_probabilities = np.exp( np.dot(   X, weights ) )\n",
            "<ipython-input-19-84d2955e04e1>:80: RuntimeWarning: overflow encountered in exp\n",
            "  conditional_probabilities = np.exp( np.dot(   X, weights ) )\n",
            "<ipython-input-19-84d2955e04e1>:80: RuntimeWarning: overflow encountered in exp\n",
            "  conditional_probabilities = np.exp( np.dot(   X, weights ) )\n",
            "<ipython-input-19-84d2955e04e1>:80: RuntimeWarning: overflow encountered in exp\n",
            "  conditional_probabilities = np.exp( np.dot(   X, weights ) )\n",
            "<ipython-input-19-84d2955e04e1>:80: RuntimeWarning: overflow encountered in exp\n",
            "  conditional_probabilities = np.exp( np.dot(   X, weights ) )\n",
            "<ipython-input-19-84d2955e04e1>:80: RuntimeWarning: overflow encountered in exp\n",
            "  conditional_probabilities = np.exp( np.dot(   X, weights ) )\n",
            "<ipython-input-19-84d2955e04e1>:80: RuntimeWarning: overflow encountered in exp\n",
            "  conditional_probabilities = np.exp( np.dot(   X, weights ) )\n",
            "<ipython-input-19-84d2955e04e1>:80: RuntimeWarning: overflow encountered in exp\n",
            "  conditional_probabilities = np.exp( np.dot(   X, weights ) )\n",
            "<ipython-input-19-84d2955e04e1>:80: RuntimeWarning: overflow encountered in exp\n",
            "  conditional_probabilities = np.exp( np.dot(   X, weights ) )\n",
            "<ipython-input-19-84d2955e04e1>:80: RuntimeWarning: overflow encountered in exp\n",
            "  conditional_probabilities = np.exp( np.dot(   X, weights ) )\n",
            "<ipython-input-19-84d2955e04e1>:80: RuntimeWarning: overflow encountered in exp\n",
            "  conditional_probabilities = np.exp( np.dot(   X, weights ) )\n",
            "<ipython-input-19-84d2955e04e1>:80: RuntimeWarning: overflow encountered in exp\n",
            "  conditional_probabilities = np.exp( np.dot(   X, weights ) )\n",
            "<ipython-input-19-84d2955e04e1>:80: RuntimeWarning: overflow encountered in exp\n",
            "  conditional_probabilities = np.exp( np.dot(   X, weights ) )\n",
            "<ipython-input-19-84d2955e04e1>:80: RuntimeWarning: overflow encountered in exp\n",
            "  conditional_probabilities = np.exp( np.dot(   X, weights ) )\n",
            "<ipython-input-19-84d2955e04e1>:80: RuntimeWarning: overflow encountered in exp\n",
            "  conditional_probabilities = np.exp( np.dot(   X, weights ) )\n"
          ]
        }
      ]
    },
    {
      "cell_type": "code",
      "source": [
        "print('best params : ', best_params)"
      ],
      "metadata": {
        "colab": {
          "base_uri": "https://localhost:8080/"
        },
        "id": "6zOfjtlgdIKy",
        "outputId": "acb5be20-c457-4929-a88f-31bff4ca89c3"
      },
      "execution_count": null,
      "outputs": [
        {
          "output_type": "stream",
          "name": "stdout",
          "text": [
            "best params :  {'lambda_reg': 1.0, 'learning_rate': 0.01, 'no_of_iterations': 100, 'regularization': False}\n"
          ]
        }
      ]
    },
    {
      "cell_type": "code",
      "source": [
        "print('best model : ', best_model)"
      ],
      "metadata": {
        "colab": {
          "base_uri": "https://localhost:8080/"
        },
        "id": "N1rPSoEcdPt1",
        "outputId": "40ba8b09-186c-4a2f-a29a-8dac51d2c183"
      },
      "execution_count": null,
      "outputs": [
        {
          "output_type": "stream",
          "name": "stdout",
          "text": [
            "best model :  LogisticRegressionGD(lambda_reg=1.0, learning_rate=0.01, no_of_iterations=100)\n"
          ]
        }
      ]
    },
    {
      "cell_type": "code",
      "source": [
        "print('Time taken for logistic regression grid search : ', -grid_time_start+grid_time_end , ' seconds')"
      ],
      "metadata": {
        "colab": {
          "base_uri": "https://localhost:8080/"
        },
        "id": "gW9VhQ0ftj6w",
        "outputId": "2a463a26-d6b9-4dd0-a0b8-2e320bc69060"
      },
      "execution_count": null,
      "outputs": [
        {
          "output_type": "stream",
          "name": "stdout",
          "text": [
            "Time taken for logistic regression grid search :  543.29740858078  seconds\n"
          ]
        }
      ]
    },
    {
      "cell_type": "markdown",
      "source": [
        "## Result (in accuracy) of our implementation"
      ],
      "metadata": {
        "id": "sSq39bkwtN7g"
      }
    },
    {
      "cell_type": "code",
      "source": [
        "best_model.fit(X_tr_std_pca_mab, y_tr)\n",
        "y_pr = best_model.predict(X_val_std_pca_mab)\n",
        "\n",
        "print( accuracy_score( y_val, y_pr)*100 )\n",
        "print( precision_score( y_val, y_pr, average='macro') *100)\n",
        "print( recall_score( y_val, y_pr, average='macro') *100)\n",
        "print( f1_score( y_val, y_pr, average='macro')*100 )"
      ],
      "metadata": {
        "colab": {
          "base_uri": "https://localhost:8080/"
        },
        "id": "mckgTngadsbu",
        "outputId": "5ffc3e52-402d-413c-cfc9-9b7a56dd5b1b"
      },
      "execution_count": null,
      "outputs": [
        {
          "output_type": "stream",
          "name": "stdout",
          "text": [
            "71.85185185185186\n",
            "71.2569130216189\n",
            "71.02077579283461\n",
            "70.52663762572845\n"
          ]
        }
      ]
    },
    {
      "cell_type": "markdown",
      "source": [
        "### Cost Function Plot of Our Implementation"
      ],
      "metadata": {
        "id": "jEIGz_UV92pT"
      }
    },
    {
      "cell_type": "code",
      "source": [
        "costs_ = best_model.get_costs()[:1000]\n",
        "\n",
        "\n",
        "\n",
        "x_values = range(len(costs_))\n",
        "\n",
        "# Plot the list of numbers\n",
        "plt.figure(figsize=(8, 6))  # Set the figure size\n",
        "plt.plot(x_values, costs_, marker='o', linestyle='-')  # Plot with markers\n",
        "plt.title('Decrease in Cost Function')  # Set the title\n",
        "plt.xlabel('Epoch')  # Set the label for the x-axis\n",
        "plt.ylabel('Cost')  # Set the label for the y-axis\n",
        "plt.grid(True)  # Display grid\n",
        "plt.tight_layout()  # Adjust the layout to make sure everything fits without overlapping\n",
        "\n",
        "# Show the plot\n",
        "plt.show()"
      ],
      "metadata": {
        "colab": {
          "base_uri": "https://localhost:8080/",
          "height": 607
        },
        "id": "Kcj70DuqmlPt",
        "outputId": "58dd1ccf-d41c-4d95-8c82-aade6ba994ee"
      },
      "execution_count": null,
      "outputs": [
        {
          "output_type": "display_data",
          "data": {
            "text/plain": [
              "<Figure size 800x600 with 1 Axes>"
            ],
            "image/png": "[encoded data removed]"
          },
          "metadata": {}
        }
      ]
    },
    {
      "cell_type": "code",
      "source": [
        "new_model_0 = LogisticRegressionGD(lambda_reg= 0.1, learning_rate= 0.01, no_of_iterations= 1000, regularization= False)\n",
        "\n",
        "new_model_0.fit(X_train_std_pca_mab, y_train) # Train on the complete train set with all 900 instances\n"
      ],
      "metadata": {
        "id": "VaRNysCy4tCw"
      },
      "execution_count": null,
      "outputs": []
    },
    {
      "cell_type": "code",
      "source": [
        "#y_pr_ = new_model_0.predict(X_test_std_pca_mab)\n",
        "\n",
        "#print( accuracy_score( y_test, y_predict)*100 )\n",
        "##print( precision_score( y_test, y_predict, average='macro') *100)\n",
        "#print( recall_score( y_test, y_predict, average='macro') *100)\n",
        "#print( f1_score( y_test, y_predict, average='macro')*100 )\n",
        "\n",
        "#X_train_std_pca_mab.shape, X_test_std_pca_mab.shape\n",
        "#y_predict = best_model.predict(X_test_std_pca_mab)"
      ],
      "metadata": {
        "id": "-UWUECpU5i_y"
      },
      "execution_count": null,
      "outputs": []
    },
    {
      "cell_type": "code",
      "source": [
        "TEST_FILENAME_PATH = 'test_filename.npy'\n",
        "file_array = np.load(TEST_FILENAME_PATH)\n",
        "# Convert list to numpy array\n",
        "#file_array = np.array(file_list)"
      ],
      "metadata": {
        "id": "hEcqnVf75zCf"
      },
      "execution_count": null,
      "outputs": []
    },
    {
      "cell_type": "code",
      "source": [
        "df_submission = pd.DataFrame({\n",
        "    'id': file_array.flatten(),\n",
        "    'class': y_predict.flatten()\n",
        "})\n",
        "\n",
        "\n",
        "df_submission.set_index('id', inplace=True, drop=True)"
      ],
      "metadata": {
        "id": "YSrTiLqZ6hMG"
      },
      "execution_count": null,
      "outputs": []
    },
    {
      "cell_type": "code",
      "source": [
        "df_submission.to_csv('/Result/result_1.csv')"
      ],
      "metadata": {
        "id": "bBHO4--46vRP"
      },
      "execution_count": null,
      "outputs": []
    },
    {
      "cell_type": "code",
      "source": [
        "from sklearn.ensemble import RandomForestClassifier\n",
        "from sklearn.naive_bayes import GaussianNB\n",
        "from sklearn.svm import SVC\n",
        "\n",
        "forest = RandomForestClassifier()\n",
        "gnb = GaussianNB()\n",
        "svc = SVC()\n",
        "\n",
        "# Hyperparameters for random forest\n",
        "param_grid_tree = {\n",
        "    'n_estimators': [10, 50, 100],\n",
        "    'max_depth': [None, 10, 20, 30],\n",
        "    'min_samples_split': [2, 5, 10],\n",
        "    'min_samples_leaf': [1, 2, 4],\n",
        "    'max_features': ['auto', 'sqrt'],\n",
        "    'bootstrap': [True, False]\n",
        "}\n",
        "\n",
        "# Hyperparameters for svc\n",
        "param_grid_svc = {\n",
        "    'C': [0.1, 1, 10, 100],\n",
        "    'kernel': ['linear', 'poly', 'rbf', 'sigmoid'],\n",
        "    'gamma': ['scale', 'auto'],\n",
        "    'degree': [2, 3, 4, 5],\n",
        "    'probability': [True]\n",
        "}\n",
        "\n",
        "\n",
        "forest_grid_search = GridSearchCV(forest, param_grid_tree, cv=5, verbose=2, n_jobs=-1)\n",
        "\n",
        "forest_start_time = time.time()\n",
        "forest_grid_search.fit( X_train_std_pca_mab, y_train)  # Assuming you have X_train and y_train\n",
        "forest_end_time = time.time()\n",
        "\n",
        "print(f\"Random Forest Grid Search took {forest_end_time - forest_start_time} seconds.\")\n",
        "print(f\"Best parameters for Random Forest: {forest_grid_search.best_params_}\")\n",
        "\n",
        "# Get the best model\n",
        "best_forest_model = forest_grid_search.best_estimator_\n",
        "\n",
        "# GridSearchCV for SVC\n",
        "svc_grid_search = GridSearchCV(svc, param_grid_svc, cv=5, verbose=2, n_jobs=-1)\n",
        "\n",
        "svc_start_time = time.time()\n",
        "svc_grid_search.fit(X_train, y_train)  # Assuming you have X_train and y_train\n",
        "svc_end_time = time.time()\n",
        "\n",
        "print(f\"SVC Grid Search took {svc_end_time - svc_start_time} seconds.\")\n",
        "print(f\"Best parameters for SVC: {svc_grid_search.best_params_}\")"
      ],
      "metadata": {
        "colab": {
          "base_uri": "https://localhost:8080/"
        },
        "id": "IG0iGjBO9QdU",
        "outputId": "3df9e232-1300-4c84-a33c-264935dab703"
      },
      "execution_count": null,
      "outputs": [
        {
          "output_type": "stream",
          "name": "stdout",
          "text": [
            "Fitting 5 folds for each of 432 candidates, totalling 2160 fits\n"
          ]
        },
        {
          "output_type": "stream",
          "name": "stderr",
          "text": [
            "/usr/local/lib/python3.10/dist-packages/sklearn/ensemble/_forest.py:424: FutureWarning: `max_features='auto'` has been deprecated in 1.1 and will be removed in 1.3. To keep the past behaviour, explicitly set `max_features='sqrt'` or remove this parameter as it is also the default value for RandomForestClassifiers and ExtraTreesClassifiers.\n",
            "  warn(\n"
          ]
        },
        {
          "output_type": "stream",
          "name": "stdout",
          "text": [
            "Random Forest Grid Search took 658.4250378608704 seconds.\n",
            "Best parameters for Random Forest: {'bootstrap': False, 'max_depth': 30, 'max_features': 'auto', 'min_samples_leaf': 2, 'min_samples_split': 2, 'n_estimators': 100}\n",
            "Fitting 5 folds for each of 128 candidates, totalling 640 fits\n",
            "SVC Grid Search took 1223.3288955688477 seconds.\n",
            "Best parameters for SVC: {'C': 100, 'degree': 2, 'gamma': 'scale', 'kernel': 'rbf', 'probability': True}\n"
          ]
        }
      ]
    },
    {
      "cell_type": "markdown",
      "source": [
        "## Random Forest in Sci-Kit Learn"
      ],
      "metadata": {
        "id": "o4RQYhwiuH0H"
      }
    },
    {
      "cell_type": "code",
      "source": [
        "# further analysis of random forest\n",
        "\n",
        "forest_best_estimator = forest_grid_search.best_estimator_\n",
        "\n",
        "forest_best_estimator.fit(X_train_std_pca_mab, y_train)\n",
        "\n",
        "forest_prediction = forest_best_estimator.predict(X_test_std_pca_mab)\n",
        "\n",
        "df_submission_forest = pd.DataFrame({\n",
        "    'id': file_array.flatten(),\n",
        "    'class': y_predict.flatten()\n",
        "})\n",
        "\n",
        "\n",
        "df_submission_forest.set_index('id', inplace=True, drop=True)\n",
        "#df_submission_forest.to_csv('/content/drive/MyDrive/CS529/result_forest.csv')\n"
      ],
      "metadata": {
        "colab": {
          "base_uri": "https://localhost:8080/"
        },
        "id": "9LzyxQDANouG",
        "outputId": "e8a385b2-a78f-4ba1-f333-85acd24f0dd2"
      },
      "execution_count": null,
      "outputs": [
        {
          "output_type": "stream",
          "name": "stderr",
          "text": [
            "/usr/local/lib/python3.10/dist-packages/sklearn/ensemble/_forest.py:424: FutureWarning: `max_features='auto'` has been deprecated in 1.1 and will be removed in 1.3. To keep the past behaviour, explicitly set `max_features='sqrt'` or remove this parameter as it is also the default value for RandomForestClassifiers and ExtraTreesClassifiers.\n",
            "  warn(\n"
          ]
        }
      ]
    },
    {
      "cell_type": "markdown",
      "source": [
        "## Random Forest in sklearn for different metrics"
      ],
      "metadata": {
        "id": "oaDx6NrquMFZ"
      }
    },
    {
      "cell_type": "code",
      "source": [
        "forest_best_estimator.fit(X_tr_std_pca_mab, y_tr)\n",
        "forest_prediction = forest_best_estimator.predict(X_val_std_pca_mab)\n",
        "\n",
        "print( accuracy_score(y_val,forest_prediction) *100)\n",
        "print( precision_score(y_val,forest_prediction, average='macro') *100)\n",
        "print( recall_score(y_val,forest_prediction, average='macro') *100 )\n",
        "print( f1_score(y_val,forest_prediction, average='macro') *100 )\n"
      ],
      "metadata": {
        "colab": {
          "base_uri": "https://localhost:8080/"
        },
        "id": "wuGC3qVWdhms",
        "outputId": "23e4ee00-9265-444c-9a09-6cb9ab2d1207"
      },
      "execution_count": null,
      "outputs": [
        {
          "output_type": "stream",
          "name": "stderr",
          "text": [
            "/usr/local/lib/python3.10/dist-packages/sklearn/ensemble/_forest.py:424: FutureWarning: `max_features='auto'` has been deprecated in 1.1 and will be removed in 1.3. To keep the past behaviour, explicitly set `max_features='sqrt'` or remove this parameter as it is also the default value for RandomForestClassifiers and ExtraTreesClassifiers.\n",
            "  warn(\n"
          ]
        },
        {
          "output_type": "stream",
          "name": "stdout",
          "text": [
            "79.25925925925927\n",
            "78.01824319471378\n",
            "77.6935152910385\n",
            "76.8432229876727\n"
          ]
        }
      ]
    },
    {
      "cell_type": "markdown",
      "source": [
        "## Support Vector Machine in Sci-Kit Learn\n"
      ],
      "metadata": {
        "id": "pBEAHAh5tjWt"
      }
    },
    {
      "cell_type": "code",
      "source": [
        "# further analysis of support vector classifier\n",
        "\n",
        "svc_best_estimator = svc_grid_search.best_estimator_\n",
        "\n",
        "svc_best_estimator.fit(X_train_std_pca_mab, y_train)\n",
        "\n",
        "svc_prediction = svc_best_estimator.predict(X_test_std_pca_mab)\n",
        "\n",
        "df_submission_svc = pd.DataFrame({\n",
        "    'id': file_array.flatten(),\n",
        "    'class': y_predict.flatten()\n",
        "})\n",
        "\n",
        "\n",
        "df_submission_svc.set_index('id', inplace=True, drop=True)\n",
        "#df_submission_svc.to_csv('/content/drive/MyDrive/CS529/result_svc.csv')\n"
      ],
      "metadata": {
        "id": "q42ur1xkX9-6"
      },
      "execution_count": null,
      "outputs": []
    },
    {
      "cell_type": "markdown",
      "source": [
        "## Result of Different Metrics in sklearn SVM"
      ],
      "metadata": {
        "id": "1N7Q1tr0trWv"
      }
    },
    {
      "cell_type": "code",
      "source": [
        "svc_best_estimator.fit(X_tr_std_pca_mab, y_tr)\n",
        "svc_prediction = svc_best_estimator.predict(X_val_std_pca_mab)\n",
        "\n",
        "print( accuracy_score(y_val,svc_prediction) *100)\n",
        "print( precision_score(y_val,svc_prediction, average='macro') *100)\n",
        "print( recall_score(y_val,svc_prediction, average='macro') *100 )\n",
        "print( f1_score(y_val,svc_prediction, average='macro') *100 )\n",
        "\"\"\"\n",
        "df_submission_svc = pd.DataFrame({\n",
        "    'id': file_array.flatten(),\n",
        "    'class': y_predict.flatten()\n",
        "})\n",
        "\"\"\"\n",
        "\n",
        "#df_submission_svc.set_index('id', inplace=True, drop=True)\n",
        "#df_submission.to_csv('/content/drive/MyDrive/CS529/result_svc.csv')\n",
        "\n"
      ],
      "metadata": {
        "colab": {
          "base_uri": "https://localhost:8080/",
          "height": 107
        },
        "id": "sdrXdknybVqB",
        "outputId": "2f8e97cb-0f9f-4c5b-b910-980a48693066"
      },
      "execution_count": null,
      "outputs": [
        {
          "output_type": "stream",
          "name": "stdout",
          "text": [
            "79.25925925925927\n",
            "78.4429181929182\n",
            "77.22483467684705\n",
            "77.28505274706647\n"
          ]
        },
        {
          "output_type": "execute_result",
          "data": {
            "text/plain": [
              "\"\\ndf_submission_svc = pd.DataFrame({\\n    'id': file_array.flatten(),\\n    'class': y_predict.flatten()\\n})\\n\""
            ],
            "application/vnd.google.colaboratory.intrinsic+json": {
              "type": "string"
            }
          },
          "metadata": {},
          "execution_count": 396
        }
      ]
    },
    {
      "cell_type": "markdown",
      "source": [
        "## Gaussian Naive Bayes in Sci-Kit Learn and Performance Metrics"
      ],
      "metadata": {
        "id": "5fMgNiOzt0hJ"
      }
    },
    {
      "cell_type": "code",
      "source": [
        "from sklearn.naive_bayes import GaussianNB\n",
        "\n",
        "gnb = GaussianNB()\n",
        "\n",
        "gnb.fit(X_tr_std_pca_mab, y_tr)\n",
        "\n",
        "gnb_prediction = gnb.predict(X_val_std_pca_mab)\n",
        "\n",
        "# Print the evaluation metrics\n",
        "print(f\"Accuracy: {accuracy_score(y_val, gnb_prediction) * 100:.2f}%\")\n",
        "print(f\"Precision: {precision_score(y_val, gnb_prediction, average='macro') * 100:.2f}%\")\n",
        "print(f\"Recall: {recall_score(y_val, gnb_prediction, average='macro') * 100:.2f}%\")\n",
        "print(f\"F1 Score: {f1_score(y_val, gnb_prediction, average='macro') * 100:.2f}%\")\n"
      ],
      "metadata": {
        "colab": {
          "base_uri": "https://localhost:8080/"
        },
        "id": "sGsKbjqKX-S5",
        "outputId": "2534a86d-0c01-4991-c286-5b5a099aa2b8"
      },
      "execution_count": null,
      "outputs": [
        {
          "output_type": "stream",
          "name": "stdout",
          "text": [
            "Accuracy: 57.04%\n",
            "Precision: 63.26%\n",
            "Recall: 56.90%\n",
            "F1 Score: 58.48%\n"
          ]
        }
      ]
    },
    {
      "cell_type": "code",
      "source": [
        "\n",
        "tsne = TSNE(n_components=2, perplexity=X_train.shape[0]-1)\n",
        "\n",
        "# Apply t-SNE to reduce dimensionality\n",
        "X_embedded = tsne.fit_transform(X_train)\n",
        "\n",
        "le = LabelEncoder()\n",
        "y_train_le = le.fit_transform(y_train)\n",
        "\n",
        "\n",
        "# Plot the embedded data (adjust labels for your data)\n",
        "plt.scatter(X_embedded[:, 0], X_embedded[:, 1], c=y_train_le,label='Data points')\n",
        "plt.xlabel('Component 1')\n",
        "plt.ylabel('Component 2')\n",
        "plt.title('t-SNE Visualization')\n",
        "plt.legend()\n",
        "plt.show()"
      ],
      "metadata": {
        "colab": {
          "base_uri": "https://localhost:8080/",
          "height": 472
        },
        "id": "8k3KCjBAX-cA",
        "outputId": "b6f974a3-a025-4ea5-f7da-54292ba25a1a"
      },
      "execution_count": null,
      "outputs": [
        {
          "output_type": "display_data",
          "data": {
            "text/plain": [
              "<Figure size 640x480 with 1 Axes>"
            ],
            "image/png": "[encoded data removed]"
          },
          "metadata": {}
        }
      ]
    },
    {
      "cell_type": "code",
      "source": [
        "plt.savefig( '/content/drive/MyDrive/CS529/tsne.png', dpi=300, bbox_inches='tight')"
      ],
      "metadata": {
        "colab": {
          "base_uri": "https://localhost:8080/",
          "height": 35
        },
        "id": "DT7Y93YAYFYR",
        "outputId": "bd0019cf-79bf-4685-e045-4614e596845d"
      },
      "execution_count": null,
      "outputs": [
        {
          "output_type": "display_data",
          "data": {
            "text/plain": [
              "<Figure size 640x480 with 0 Axes>"
            ]
          },
          "metadata": {}
        }
      ]
    },
    {
      "cell_type": "code",
      "source": [
        "# Save the plot\n",
        "plt.savefig('tsne_plot.png',dpi=300, bbox_inches='tight')\n",
        "plt.show()"
      ],
      "metadata": {
        "colab": {
          "base_uri": "https://localhost:8080/",
          "height": 35
        },
        "id": "pKNvvQCtX8AM",
        "outputId": "03d7a94c-3c8d-49c7-9333-3709094b396d"
      },
      "execution_count": null,
      "outputs": [
        {
          "output_type": "display_data",
          "data": {
            "text/plain": [
              "<Figure size 640x480 with 0 Axes>"
            ]
          },
          "metadata": {}
        }
      ]
    },
    {
      "cell_type": "code",
      "source": [],
      "metadata": {
        "id": "_2bc9TcqymyK"
      },
      "execution_count": null,
      "outputs": []
    }
  ]
}